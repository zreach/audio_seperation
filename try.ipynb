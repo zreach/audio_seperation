{
 "cells": [
  {
   "cell_type": "code",
   "execution_count": 2,
   "metadata": {},
   "outputs": [
    {
     "name": "stdout",
     "output_type": "stream",
     "text": [
      "INFO: Successfully saved requirements file in ./requirements.txt\n"
     ]
    }
   ],
   "source": [
    "!pipreqs . --force"
   ]
  },
  {
   "cell_type": "code",
   "execution_count": 3,
   "metadata": {},
   "outputs": [
    {
     "name": "stdout",
     "output_type": "stream",
     "text": [
      "11\n",
      "\n",
      "1\n",
      "1\n",
      "1\n",
      "1\n",
      "1\n",
      "1\n",
      "1\n",
      "1\n",
      "All threads finished\n"
     ]
    }
   ],
   "source": [
    "import threading\n",
    "# 创建一个线程锁\n",
    "thread_lock = threading.Lock()\n",
    "\n",
    "# 定义一个线程函数\n",
    "def worker():\n",
    "    print(1)\n",
    "\n",
    "# 创建多个线程\n",
    "threads = []\n",
    "max_threads = 4  # 设置最大线程数\n",
    "\n",
    "for _ in range(10):  # 创建10个线程\n",
    "    thread = threading.Thread(target=worker)\n",
    "    threads.append(thread)\n",
    "\n",
    "# 启动线程，但同时只允许最大线程数个线程运行\n",
    "for i, thread in enumerate(threads):\n",
    "    thread.start()\n",
    "\n",
    "    # 每当达到最大线程数时，等待一个线程结束后再启动下一个线程\n",
    "    if (i + 1) % max_threads == 0:\n",
    "        thread.join()\n",
    "\n",
    "# 等待所有线程结束\n",
    "for thread in threads:\n",
    "    thread.join()\n",
    "\n",
    "print(\"All threads finished\")\n"
   ]
  },
  {
   "cell_type": "code",
   "execution_count": null,
   "metadata": {},
   "outputs": [],
   "source": []
  }
 ],
 "metadata": {
  "kernelspec": {
   "display_name": "Python 3",
   "language": "python",
   "name": "python3"
  },
  "language_info": {
   "codemirror_mode": {
    "name": "ipython",
    "version": 3
   },
   "file_extension": ".py",
   "mimetype": "text/x-python",
   "name": "python",
   "nbconvert_exporter": "python",
   "pygments_lexer": "ipython3",
   "version": "3.9.0"
  }
 },
 "nbformat": 4,
 "nbformat_minor": 2
}
