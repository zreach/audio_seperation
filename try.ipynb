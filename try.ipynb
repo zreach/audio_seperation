{
 "cells": [
  {
   "cell_type": "code",
   "execution_count": 5,
   "metadata": {},
   "outputs": [
    {
     "name": "stdout",
     "output_type": "stream",
     "text": [
      "Traceback (most recent call last):\n",
      "  File \"/Users/pingguosb/miniconda3/lib/python3.10/site-packages/urllib3/connectionpool.py\", line 700, in urlopen\n",
      "    self._prepare_proxy(conn)\n",
      "  File \"/Users/pingguosb/miniconda3/lib/python3.10/site-packages/urllib3/connectionpool.py\", line 996, in _prepare_proxy\n",
      "    conn.connect()\n",
      "  File \"/Users/pingguosb/miniconda3/lib/python3.10/site-packages/urllib3/connection.py\", line 414, in connect\n",
      "    self.sock = ssl_wrap_socket(\n",
      "  File \"/Users/pingguosb/miniconda3/lib/python3.10/site-packages/urllib3/util/ssl_.py\", line 449, in ssl_wrap_socket\n",
      "    ssl_sock = _ssl_wrap_socket_impl(\n",
      "  File \"/Users/pingguosb/miniconda3/lib/python3.10/site-packages/urllib3/util/ssl_.py\", line 493, in _ssl_wrap_socket_impl\n",
      "    return ssl_context.wrap_socket(sock, server_hostname=server_hostname)\n",
      "  File \"/Users/pingguosb/miniconda3/lib/python3.10/ssl.py\", line 513, in wrap_socket\n",
      "    return self.sslsocket_class._create(\n",
      "  File \"/Users/pingguosb/miniconda3/lib/python3.10/ssl.py\", line 1071, in _create\n",
      "    self.do_handshake()\n",
      "  File \"/Users/pingguosb/miniconda3/lib/python3.10/ssl.py\", line 1342, in do_handshake\n",
      "    self._sslobj.do_handshake()\n",
      "ssl.SSLEOFError: EOF occurred in violation of protocol (_ssl.c:997)\n",
      "\n",
      "During handling of the above exception, another exception occurred:\n",
      "\n",
      "Traceback (most recent call last):\n",
      "  File \"/Users/pingguosb/miniconda3/lib/python3.10/site-packages/requests/adapters.py\", line 489, in send\n",
      "    resp = conn.urlopen(\n",
      "  File \"/Users/pingguosb/miniconda3/lib/python3.10/site-packages/urllib3/connectionpool.py\", line 787, in urlopen\n",
      "    retries = retries.increment(\n",
      "  File \"/Users/pingguosb/miniconda3/lib/python3.10/site-packages/urllib3/util/retry.py\", line 592, in increment\n",
      "    raise MaxRetryError(_pool, url, error or ResponseError(cause))\n",
      "urllib3.exceptions.MaxRetryError: HTTPSConnectionPool(host='pypi.org', port=443): Max retries exceeded with url: /pypi/mir-eval/json (Caused by SSLError(SSLEOFError(8, 'EOF occurred in violation of protocol (_ssl.c:997)')))\n",
      "\n",
      "During handling of the above exception, another exception occurred:\n",
      "\n",
      "Traceback (most recent call last):\n",
      "  File \"/Users/pingguosb/miniconda3/bin/pipreqs\", line 8, in <module>\n",
      "    sys.exit(main())\n",
      "  File \"/Users/pingguosb/miniconda3/lib/python3.10/site-packages/pipreqs/pipreqs.py\", line 488, in main\n",
      "    init(args)\n",
      "  File \"/Users/pingguosb/miniconda3/lib/python3.10/site-packages/pipreqs/pipreqs.py\", line 439, in init\n",
      "    imports = local + get_imports_info(difference,\n",
      "  File \"/Users/pingguosb/miniconda3/lib/python3.10/site-packages/pipreqs/pipreqs.py\", line 179, in get_imports_info\n",
      "    response = requests.get(\n",
      "  File \"/Users/pingguosb/miniconda3/lib/python3.10/site-packages/requests/api.py\", line 73, in get\n",
      "    return request(\"get\", url, params=params, **kwargs)\n",
      "  File \"/Users/pingguosb/miniconda3/lib/python3.10/site-packages/requests/api.py\", line 59, in request\n",
      "    return session.request(method=method, url=url, **kwargs)\n",
      "  File \"/Users/pingguosb/miniconda3/lib/python3.10/site-packages/requests/sessions.py\", line 587, in request\n",
      "    resp = self.send(prep, **send_kwargs)\n",
      "  File \"/Users/pingguosb/miniconda3/lib/python3.10/site-packages/requests/sessions.py\", line 723, in send\n",
      "    history = [resp for resp in gen]\n",
      "  File \"/Users/pingguosb/miniconda3/lib/python3.10/site-packages/requests/sessions.py\", line 723, in <listcomp>\n",
      "    history = [resp for resp in gen]\n",
      "  File \"/Users/pingguosb/miniconda3/lib/python3.10/site-packages/requests/sessions.py\", line 266, in resolve_redirects\n",
      "    resp = self.send(\n",
      "  File \"/Users/pingguosb/miniconda3/lib/python3.10/site-packages/requests/sessions.py\", line 701, in send\n",
      "    r = adapter.send(request, **kwargs)\n",
      "  File \"/Users/pingguosb/miniconda3/lib/python3.10/site-packages/requests/adapters.py\", line 563, in send\n",
      "    raise SSLError(e, request=request)\n",
      "requests.exceptions.SSLError: HTTPSConnectionPool(host='pypi.org', port=443): Max retries exceeded with url: /pypi/mir-eval/json (Caused by SSLError(SSLEOFError(8, 'EOF occurred in violation of protocol (_ssl.c:997)')))\n"
     ]
    }
   ],
   "source": [
    "!pipreqs . --force"
   ]
  },
  {
   "cell_type": "code",
   "execution_count": null,
   "metadata": {},
   "outputs": [],
   "source": []
  }
 ],
 "metadata": {
  "kernelspec": {
   "display_name": "Python 3",
   "language": "python",
   "name": "python3"
  },
  "language_info": {
   "codemirror_mode": {
    "name": "ipython",
    "version": 3
   },
   "file_extension": ".py",
   "mimetype": "text/x-python",
   "name": "python",
   "nbconvert_exporter": "python",
   "pygments_lexer": "ipython3",
   "version": "3.9.6"
  }
 },
 "nbformat": 4,
 "nbformat_minor": 2
}
